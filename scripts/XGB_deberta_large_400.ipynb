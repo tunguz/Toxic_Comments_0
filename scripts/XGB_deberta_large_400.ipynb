{
 "cells": [
  {
   "cell_type": "code",
   "execution_count": 1,
   "id": "44c35e39-a946-411c-b510-a7dd1fe53d65",
   "metadata": {},
   "outputs": [],
   "source": [
    "import numpy as np\n",
    "import pandas as pd\n",
    "\n",
    "from sklearn.feature_extraction.text import TfidfVectorizer\n",
    "from xgboost import XGBClassifier\n",
    "from sklearn.model_selection import KFold\n",
    "from scipy.sparse import hstack\n",
    "from sklearn.metrics import roc_auc_score"
   ]
  },
  {
   "cell_type": "code",
   "execution_count": 2,
   "id": "8aac580c-d544-40d5-80f3-448370cb939b",
   "metadata": {},
   "outputs": [
    {
     "name": "stdout",
     "output_type": "stream",
     "text": [
      "CPU times: user 802 ms, sys: 59.9 ms, total: 861 ms\n",
      "Wall time: 860 ms\n"
     ]
    },
    {
     "data": {
      "text/plain": [
       "array([[0, 0, 0, 0, 0, 0],\n",
       "       [0, 0, 0, 0, 0, 0],\n",
       "       [0, 0, 0, 0, 0, 0],\n",
       "       ...,\n",
       "       [0, 0, 0, 0, 0, 0],\n",
       "       [0, 0, 0, 0, 0, 0],\n",
       "       [0, 0, 0, 0, 0, 0]])"
      ]
     },
     "execution_count": 2,
     "metadata": {},
     "output_type": "execute_result"
    }
   ],
   "source": [
    "%%time\n",
    "class_names = ['toxic', 'severe_toxic', 'obscene', 'threat', 'insult', 'identity_hate']\n",
    "\n",
    "target = pd.read_csv('../input/train.csv.zip').fillna(' ')[class_names].values\n",
    "target"
   ]
  },
  {
   "cell_type": "code",
   "execution_count": 3,
   "id": "7d6d0c12-f202-49d5-9c17-e4232e77fe10",
   "metadata": {},
   "outputs": [],
   "source": [
    "train_features = np.load('../input/train_embs_large_400.npy')\n",
    "test_features = np.load('../input/test_embs_large_400.npy')"
   ]
  },
  {
   "cell_type": "code",
   "execution_count": 5,
   "id": "a71e016f-fbcd-42f0-80b8-988a5d543d32",
   "metadata": {},
   "outputs": [
    {
     "name": "stdout",
     "output_type": "stream",
     "text": [
      "Fitting target 1\n",
      "Fitting fold 1\n",
      "Fitting fold 2\n",
      "Fitting fold 3\n",
      "0.9589959652165291\n",
      "Fitting target 2\n",
      "Fitting fold 1\n",
      "Fitting fold 2\n",
      "Fitting fold 3\n",
      "0.9795291987529393\n",
      "Fitting target 3\n",
      "Fitting fold 1\n",
      "Fitting fold 2\n",
      "Fitting fold 3\n",
      "0.9682684632688761\n",
      "Fitting target 4\n",
      "Fitting fold 1\n",
      "Fitting fold 2\n",
      "Fitting fold 3\n",
      "0.9637029624024283\n",
      "Fitting target 5\n",
      "Fitting fold 1\n",
      "Fitting fold 2\n",
      "Fitting fold 3\n",
      "0.964538749598732\n",
      "Fitting target 6\n",
      "Fitting fold 1\n",
      "Fitting fold 2\n",
      "Fitting fold 3\n",
      "0.9535626675933024\n",
      "CPU times: user 9h 34min 24s, sys: 45.5 s, total: 9h 35min 10s\n",
      "Wall time: 38min 39s\n"
     ]
    }
   ],
   "source": [
    "%%time\n",
    "train_oof = np.zeros(target.shape)\n",
    "kf = KFold(n_splits=3, random_state=137, shuffle=True)\n",
    "for ii in range(6):\n",
    "    print(\"Fitting target\", ii+1)\n",
    "    for jj, (train_index, val_index) in enumerate(kf.split(train_features)):\n",
    "        print(\"Fitting fold\", jj+1)\n",
    "        train_x = train_features[train_index]\n",
    "        val_x = train_features[val_index]\n",
    "        train_target = target[train_index,ii]\n",
    "        classifier = XGBClassifier(tree_method='hist')\n",
    "        classifier.fit(train_x, train_target)\n",
    "        train_oof[val_index, ii] = classifier.predict_proba(val_x)[:,1]\n",
    "    print(roc_auc_score(target[:,ii], train_oof[:,ii]))"
   ]
  },
  {
   "cell_type": "code",
   "execution_count": 6,
   "id": "cf4217ad-732f-4cc8-89a2-300eaee388df",
   "metadata": {},
   "outputs": [
    {
     "name": "stdout",
     "output_type": "stream",
     "text": [
      "Fitting target 1\n",
      "Fitting fold 1\n",
      "Fitting fold 2\n",
      "Fitting fold 3\n",
      "0.9539191180634152\n",
      "Fitting target 2\n",
      "Fitting fold 1\n",
      "Fitting fold 2\n",
      "Fitting fold 3\n",
      "0.9791708748108716\n",
      "Fitting target 3\n",
      "Fitting fold 1\n",
      "Fitting fold 2\n",
      "Fitting fold 3\n",
      "0.9631296224358576\n",
      "Fitting target 4\n",
      "Fitting fold 1\n",
      "Fitting fold 2\n",
      "Fitting fold 3\n",
      "0.9639586350732409\n",
      "Fitting target 5\n",
      "Fitting fold 1\n",
      "Fitting fold 2\n",
      "Fitting fold 3\n",
      "0.963276119225601\n",
      "Fitting target 6\n",
      "Fitting fold 1\n",
      "Fitting fold 2\n",
      "Fitting fold 3\n",
      "0.9557014471439371\n",
      "CPU times: user 5h 24min 57s, sys: 29.9 s, total: 5h 25min 27s\n",
      "Wall time: 21min 46s\n"
     ]
    }
   ],
   "source": [
    "%%time\n",
    "train_oof = np.zeros(target.shape)\n",
    "kf = KFold(n_splits=3, random_state=137, shuffle=True)\n",
    "for ii in range(6):\n",
    "    print(\"Fitting target\", ii+1)\n",
    "    for jj, (train_index, val_index) in enumerate(kf.split(train_features)):\n",
    "        print(\"Fitting fold\", jj+1)\n",
    "        train_x = train_features[train_index]\n",
    "        val_x = train_features[val_index]\n",
    "        train_target = target[train_index,ii]\n",
    "        classifier = XGBClassifier(tree_method='hist', max_depth=2)\n",
    "        classifier.fit(train_x, train_target)\n",
    "        train_oof[val_index, ii] = classifier.predict_proba(val_x)[:,1]\n",
    "    print(roc_auc_score(target[:,ii], train_oof[:,ii]))"
   ]
  },
  {
   "cell_type": "code",
   "execution_count": null,
   "id": "c3278d88-57de-45ff-965e-d620ce03b1f8",
   "metadata": {},
   "outputs": [],
   "source": []
  }
 ],
 "metadata": {
  "kernelspec": {
   "display_name": "Python 3 (ipykernel)",
   "language": "python",
   "name": "python3"
  },
  "language_info": {
   "codemirror_mode": {
    "name": "ipython",
    "version": 3
   },
   "file_extension": ".py",
   "mimetype": "text/x-python",
   "name": "python",
   "nbconvert_exporter": "python",
   "pygments_lexer": "ipython3",
   "version": "3.10.4"
  }
 },
 "nbformat": 4,
 "nbformat_minor": 5
}
