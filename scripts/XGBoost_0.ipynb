{
 "cells": [
  {
   "cell_type": "code",
   "execution_count": 1,
   "id": "f38bfac5-cd1e-4189-b504-18c6f6abc682",
   "metadata": {},
   "outputs": [
    {
     "data": {
      "text/plain": [
       "'1.6.2'"
      ]
     },
     "execution_count": 1,
     "metadata": {},
     "output_type": "execute_result"
    }
   ],
   "source": [
    "import numpy as np\n",
    "import pandas as pd\n",
    "\n",
    "from sklearn.feature_extraction.text import TfidfVectorizer\n",
    "from sklearn.linear_model import LogisticRegression\n",
    "from sklearn.model_selection import cross_val_score, KFold\n",
    "from sklearn.metrics import roc_auc_score\n",
    "from scipy.sparse import hstack\n",
    "import xgboost as xgb\n",
    "xgb.__version__"
   ]
  },
  {
   "cell_type": "code",
   "execution_count": 2,
   "id": "d6c08f15-5b36-4537-ad26-587b5040bfcc",
   "metadata": {},
   "outputs": [
    {
     "name": "stdout",
     "output_type": "stream",
     "text": [
      "CPU times: user 1.69 s, sys: 179 ms, total: 1.87 s\n",
      "Wall time: 1.87 s\n"
     ]
    }
   ],
   "source": [
    "%%time\n",
    "class_names = ['toxic', 'severe_toxic', 'obscene', 'threat', 'insult', 'identity_hate']\n",
    "\n",
    "train = pd.read_csv('../input/train.csv.zip').fillna(' ')\n",
    "test = pd.read_csv('../input/test.csv.zip').fillna(' ')\n",
    "\n",
    "train_text = train['comment_text']\n",
    "test_text = test['comment_text']\n",
    "all_text = pd.concat([train_text, test_text])"
   ]
  },
  {
   "cell_type": "code",
   "execution_count": 3,
   "id": "8251a920-4709-4a35-89d2-8863dd7c8971",
   "metadata": {},
   "outputs": [
    {
     "name": "stdout",
     "output_type": "stream",
     "text": [
      "CPU times: user 21.5 s, sys: 148 ms, total: 21.7 s\n",
      "Wall time: 21.7 s\n"
     ]
    }
   ],
   "source": [
    "%%time\n",
    "word_vectorizer = TfidfVectorizer(\n",
    "    sublinear_tf=True,\n",
    "    strip_accents='unicode',\n",
    "    analyzer='word',\n",
    "    token_pattern=r'\\w{1,}',\n",
    "    stop_words='english',\n",
    "    ngram_range=(1, 1),\n",
    "    max_features=10000)\n",
    "word_vectorizer.fit(all_text)\n",
    "train_word_features = word_vectorizer.transform(train_text)\n",
    "test_word_features = word_vectorizer.transform(test_text)"
   ]
  },
  {
   "cell_type": "code",
   "execution_count": 4,
   "id": "e7f83ad0-8597-44e0-a425-f7b6b23feb74",
   "metadata": {},
   "outputs": [
    {
     "name": "stderr",
     "output_type": "stream",
     "text": [
      "/home/tunguz/.local/lib/python3.8/site-packages/sklearn/feature_extraction/text.py:546: UserWarning: The parameter 'stop_words' will not be used since 'analyzer' != 'word'\n",
      "  warnings.warn(\n"
     ]
    },
    {
     "name": "stdout",
     "output_type": "stream",
     "text": [
      "CPU times: user 10min 37s, sys: 7 s, total: 10min 44s\n",
      "Wall time: 10min 45s\n"
     ]
    }
   ],
   "source": [
    "%%time\n",
    "char_vectorizer = TfidfVectorizer(\n",
    "    sublinear_tf=True,\n",
    "    strip_accents='unicode',\n",
    "    analyzer='char',\n",
    "    stop_words='english',\n",
    "    ngram_range=(2, 6),\n",
    "    max_features=50000)\n",
    "char_vectorizer.fit(all_text)\n",
    "train_char_features = char_vectorizer.transform(train_text)\n",
    "test_char_features = char_vectorizer.transform(test_text)"
   ]
  },
  {
   "cell_type": "code",
   "execution_count": 5,
   "id": "7d6d0c12-f202-49d5-9c17-e4232e77fe10",
   "metadata": {},
   "outputs": [],
   "source": [
    "train_features = hstack([train_char_features, train_word_features])\n",
    "test_features = hstack([test_char_features, test_word_features])"
   ]
  },
  {
   "cell_type": "code",
   "execution_count": 8,
   "id": "a71e016f-fbcd-42f0-80b8-988a5d543d32",
   "metadata": {},
   "outputs": [
    {
     "name": "stdout",
     "output_type": "stream",
     "text": [
      "Fitting target 1\n",
      "Fitting fold 1\n",
      "Fitting fold 2\n",
      "Fitting fold 3\n",
      "0.9673027369246964\n",
      "Fitting target 2\n",
      "Fitting fold 1\n",
      "Fitting fold 2\n",
      "Fitting fold 3\n",
      "0.9816544531267241\n",
      "Fitting target 3\n",
      "Fitting fold 1\n",
      "Fitting fold 2\n",
      "Fitting fold 3\n",
      "0.9887388266253295\n",
      "Fitting target 4\n",
      "Fitting fold 1\n",
      "Fitting fold 2\n",
      "Fitting fold 3\n",
      "0.9756780178073787\n",
      "Fitting target 5\n",
      "Fitting fold 1\n",
      "Fitting fold 2\n",
      "Fitting fold 3\n",
      "0.9752410557231539\n",
      "Fitting target 6\n",
      "Fitting fold 1\n",
      "Fitting fold 2\n",
      "Fitting fold 3\n",
      "0.9736121939187006\n",
      "CPU times: user 1d 4h 22min 38s, sys: 11min 4s, total: 1d 4h 33min 43s\n",
      "Wall time: 1h 21min 15s\n"
     ]
    }
   ],
   "source": [
    "%%time\n",
    "train_oof = np.zeros(train[class_names].shape)\n",
    "kf = KFold(n_splits=3, random_state=137, shuffle=True)\n",
    "for ii in range(6):\n",
    "    print(\"Fitting target\", ii+1)\n",
    "    for jj, (train_index, val_index) in enumerate(kf.split(train_features)):\n",
    "        print(\"Fitting fold\", jj+1)\n",
    "        train_x = train_features[train_index]\n",
    "        val_x = train_features[val_index]\n",
    "        train_target = train[class_names].values[train_index,ii]\n",
    "        classifier = xgb.XGBClassifier(tree_method='hist')\n",
    "        classifier.fit(train_x, train_target)\n",
    "        train_oof[val_index, ii] = classifier.predict_proba(val_x)[:,1]\n",
    "    print(roc_auc_score(train[class_names].values[:,ii], train_oof[:,ii]))"
   ]
  },
  {
   "cell_type": "code",
   "execution_count": 9,
   "id": "cf4217ad-732f-4cc8-89a2-300eaee388df",
   "metadata": {},
   "outputs": [],
   "source": [
    "train_target = train[class_names].values[train_index]"
   ]
  },
  {
   "cell_type": "code",
   "execution_count": 11,
   "id": "c8af867f-1caa-48fc-b34c-5159bbccc4ed",
   "metadata": {},
   "outputs": [
    {
     "data": {
      "text/plain": [
       "(106381, 6)"
      ]
     },
     "execution_count": 11,
     "metadata": {},
     "output_type": "execute_result"
    }
   ],
   "source": [
    "train_target.shape"
   ]
  },
  {
   "cell_type": "code",
   "execution_count": 12,
   "id": "fc76d4d0-890c-4fb6-bf04-e002059ead76",
   "metadata": {},
   "outputs": [],
   "source": [
    "train_oof_2 = np.zeros(train[class_names].shape)"
   ]
  },
  {
   "cell_type": "code",
   "execution_count": 14,
   "id": "c740cfd2-5978-4c9e-ba22-d5f9a96e750f",
   "metadata": {},
   "outputs": [],
   "source": [
    "train_oof_2[train_index] = train_target"
   ]
  },
  {
   "cell_type": "code",
   "execution_count": 15,
   "id": "a97cd9eb-1f32-4ddc-87a1-5153b14f9b05",
   "metadata": {},
   "outputs": [
    {
     "name": "stdout",
     "output_type": "stream",
     "text": [
      "Fitting fold 1\n",
      "Fitting fold 2\n",
      "Fitting fold 3\n",
      "CPU times: user 1d 3h 58min 24s, sys: 6min 46s, total: 1d 4h 5min 10s\n",
      "Wall time: 1h 17min 22s\n"
     ]
    }
   ],
   "source": [
    "%%time\n",
    "train_oof = np.zeros(train[class_names].shape)\n",
    "kf = KFold(n_splits=3, random_state=137, shuffle=True)\n",
    "\n",
    "for jj, (train_index, val_index) in enumerate(kf.split(train_features)):\n",
    "        print(\"Fitting fold\", jj+1)\n",
    "        train_x = train_features[train_index]\n",
    "        val_x = train_features[val_index]\n",
    "        train_target = train[class_names].values[train_index]\n",
    "        classifier = xgb.XGBClassifier(tree_method='hist')\n",
    "        classifier.fit(train_x, train_target)\n",
    "        train_oof[val_index] = classifier.predict_proba(val_x)"
   ]
  },
  {
   "cell_type": "code",
   "execution_count": 16,
   "id": "d15ea4c7-eb6d-4836-99eb-69392b71c90e",
   "metadata": {},
   "outputs": [
    {
     "name": "stdout",
     "output_type": "stream",
     "text": [
      "0.9673027369246964\n",
      "0.9816544531267241\n",
      "0.9887388266253295\n",
      "0.9756780178073787\n",
      "0.9752410557231539\n",
      "0.9736121939187006\n"
     ]
    }
   ],
   "source": [
    "for ii in range(6):\n",
    "    print(roc_auc_score(train[class_names].values[:,ii], train_oof[:,ii]))"
   ]
  },
  {
   "cell_type": "code",
   "execution_count": null,
   "id": "0921c68c-3c13-441b-8de5-a6d64429a2e6",
   "metadata": {},
   "outputs": [],
   "source": []
  }
 ],
 "metadata": {
  "kernelspec": {
   "display_name": "Python 3 (ipykernel)",
   "language": "python",
   "name": "python3"
  },
  "language_info": {
   "codemirror_mode": {
    "name": "ipython",
    "version": 3
   },
   "file_extension": ".py",
   "mimetype": "text/x-python",
   "name": "python",
   "nbconvert_exporter": "python",
   "pygments_lexer": "ipython3",
   "version": "3.8.9"
  }
 },
 "nbformat": 4,
 "nbformat_minor": 5
}
